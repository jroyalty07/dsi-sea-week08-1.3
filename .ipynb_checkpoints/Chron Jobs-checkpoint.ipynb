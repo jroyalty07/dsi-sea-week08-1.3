{
 "cells": [
  {
   "cell_type": "markdown",
   "metadata": {
    "button": false,
    "deletable": true,
    "new_sheet": false,
    "run_control": {
     "read_only": false
    }
   },
   "source": [
    "## Step 1"
   ]
  },
  {
   "cell_type": "markdown",
   "metadata": {
    "button": false,
    "deletable": true,
    "new_sheet": false,
    "run_control": {
     "read_only": false
    }
   },
   "source": [
    "Head over to [twitter's api](https://apps.twitter.com) and create an account. "
   ]
  },
  {
   "cell_type": "markdown",
   "metadata": {
    "button": false,
    "deletable": true,
    "new_sheet": false,
    "run_control": {
     "read_only": false
    }
   },
   "source": [
    "Click on the tab at the top to create a new app. Fill out all the information. Put your class website as the website twitter redirects you to. Add a path for your callback as your callback url. We will be using this later in the class. Mine is: \thttps://peaceful-badlands-42479.herokuapp.com/callback/twitter"
   ]
  },
  {
   "cell_type": "markdown",
   "metadata": {
    "button": false,
    "deletable": true,
    "new_sheet": false,
    "run_control": {
     "read_only": false
    }
   },
   "source": [
    "Once your app has been created, navigate to the \"keys and access tokens\" tab. Click the \"create access token\" button on the bottom of the page. This should give you all the keys you need. Leave this tab open. We will be needed it in step 2."
   ]
  },
  {
   "cell_type": "markdown",
   "metadata": {
    "button": false,
    "deletable": true,
    "new_sheet": false,
    "run_control": {
     "read_only": false
    }
   },
   "source": [
    "## Step 2"
   ]
  },
  {
   "cell_type": "markdown",
   "metadata": {
    "button": false,
    "deletable": true,
    "new_sheet": false,
    "run_control": {
     "read_only": false
    }
   },
   "source": [
    "Navigate to [here](https://github.com/ryanmcgrath/twython). We need to download the twitter api library for Django."
   ]
  },
  {
   "cell_type": "markdown",
   "metadata": {
    "button": false,
    "deletable": true,
    "new_sheet": false,
    "run_control": {
     "read_only": false
    }
   },
   "source": [
    "Once installed, copy your **```Consumer Key, Consumer Secret, Access Token, and Access Token Secret```** from the twitter api page. These will be substituted in for the keys listed below in the same order. Look at the example below for more details.\n",
    "\n",
    "\n",
    "```\n",
    "#This\n",
    "twitter = Twython(APP_KEY, APP_SECRET,OAUTH_TOKEN, OAUTH_TOKEN_SECRET)\n",
    "\n",
    "# Becomes this\n",
    "twitter = Twython(CONSUMER_KEY, CONSUMER_SECRET, ACCESS_TOKEN, ACCESS_TOKEN_SECRET)\n",
    "\n",
    "```"
   ]
  },
  {
   "cell_type": "markdown",
   "metadata": {
    "button": false,
    "deletable": true,
    "new_sheet": false,
    "run_control": {
     "read_only": false
    }
   },
   "source": [
    "Don't forget to add these variables to your .env file! If someone gets a hold of them they will be able to post tweets on your behalf. \n",
    "\n",
    "You can load your credentials into your settings file like so:\n",
    "\n",
    "```\n",
    "TWITTER_APP_KEY = os.environ.get('TWITTER_APP_KEY', '')\n",
    "TWITTER_APP_SECRET = os.environ.get('TWITTER_APP_SECRET', '')\n",
    "TWITTER_OAUTH_TOKEN = os.environ.get('TWITTER_OAUTH_TOKEN', '')\n",
    "TWITTER_OAUTH_TOKEN_SECRET = os.environ.get('TWITTER_OAUTH_TOKEN_SECRET', '')\n",
    "```\n",
    "\n",
    "Then import the variables into your views.py:\n",
    "```\n",
    "from classproject.settings import TWITTER_APP_KEY, TWITTER_APP_SECRET,TWITTER_OAUTH_TOKEN,TWITTER_OAUTH_TOKEN_SECRET\n",
    "```"
   ]
  },
  {
   "cell_type": "markdown",
   "metadata": {
    "button": false,
    "deletable": true,
    "new_sheet": false,
    "run_control": {
     "read_only": false
    }
   },
   "source": [
    "## Step 3\n",
    "\n",
    "In your console type\n",
    "\n",
    "```\n",
    "pip install django-dotenv\n",
    "```\n",
    "\n",
    "Change your manage.py to this:\n",
    "\n",
    "\n",
    "```\n",
    "#!/usr/bin/env python\n",
    "import os\n",
    "import sys\n",
    "import dotenv\n",
    "\n",
    "if __name__ == \"__main__\":\n",
    "    os.environ.setdefault(\"DJANGO_SETTINGS_MODULE\", \"classproject.settings\")\n",
    "    try:\n",
    "        from django.core.management import execute_from_command_line\n",
    "    except ImportError:\n",
    "        # The above import may fail for some other reason. Ensure that the\n",
    "        # issue is really that Django is missing to avoid masking other\n",
    "        # exceptions on Python 2.\n",
    "        try:\n",
    "            import django\n",
    "        except ImportError:\n",
    "            raise ImportError(\n",
    "                \"Couldn't import Django. Are you sure it's installed and \"\n",
    "                \"available on your PYTHONPATH environment variable? Did you \"\n",
    "                \"forget to activate a virtual environment?\"\n",
    "            )\n",
    "        raise\n",
    "\n",
    "    dotenv.read_dotenv()\n",
    "    execute_from_command_line(sys.argv)\n",
    "```"
   ]
  },
  {
   "cell_type": "markdown",
   "metadata": {
    "button": false,
    "deletable": true,
    "new_sheet": false,
    "run_control": {
     "read_only": false
    }
   },
   "source": [
    "## Step 4\n",
    "\n",
    "* Create a heirarchy as seen [here](https://docs.djangoproject.com/en/1.10/howto/custom-management-commands/)\n",
    "* Add a file to your commands folder. Name it 'tweet_chron.py' and add the following:\n",
    "\n",
    "```\n",
    "from django.core.management.base import BaseCommand, CommandError\n",
    "from website.models import TWITTERTWEET, TWITTERUSER\n",
    "import os\n",
    "\n",
    "TWITTER_APP_KEY = os.environ.get('TWITTER_APP_KEY', '')\n",
    "TWITTER_APP_SECRET = os.environ.get('TWITTER_APP_SECRET', '')\n",
    "TWITTER_OAUTH_TOKEN = os.environ.get('TWITTER_OAUTH_TOKEN', '')\n",
    "TWITTER_OAUTH_TOKEN_SECRET = os.environ.get('TWITTER_OAUTH_TOKEN_SECRET', '')\n",
    "```\n",
    "```\n",
    "class Command(BaseCommand):\n",
    "    help = 'pull in a few tweets based on a query'\n",
    "\n",
    "    def add_arguments(self, parser):\n",
    "        parser.add_argument('query', nargs='+', type=int)\n",
    "\n",
    "    def handle(self, *args, **options):\n",
    "        for q in options['query']:\n",
    "            try:\n",
    "                # Do Query Logic Here\n",
    "            except Exception as e:\n",
    "                raise CommandError(e)\n",
    "\n",
    "            self.stdout.write(self.style.SUCCESS('SuccessQ'))\n",
    "```"
   ]
  },
  {
   "cell_type": "markdown",
   "metadata": {
    "button": false,
    "deletable": true,
    "new_sheet": false,
    "run_control": {
     "read_only": false
    }
   },
   "source": [
    "## Step 5\n",
    "\n",
    "Add the scheduler. Type in:\n",
    "\n",
    "```\n",
    "heroku addons:create scheduler:standard\n",
    "```\n",
    "\n",
    "Navigate to your Heroku app. Click on Overview > Heroku Scheduler > Add a new job.\n",
    "\n",
    "Use the following as the command:\n",
    "\n",
    "***```python manage.py tweet_chron 'trump'```***\n",
    "\n",
    "Set the time to however frequently you'd like"
   ]
  },
  {
   "cell_type": "markdown",
   "metadata": {
    "button": false,
    "deletable": true,
    "new_sheet": false,
    "run_control": {
     "read_only": false
    }
   },
   "source": [
    "## Step 6\n",
    "\n",
    "Now you try. We need to save all the tweets for a certain query every hour. In your tweet_chron.py file, use Twython to query the twitter api and return results based on whatever was sent through the 'query' variable. Save your values into a model. Make sure to restrict your results in some way. Your database only has 20MB of data, so let's not get too crazy with this lab.\n",
    "\n",
    "Here is an example of how that's done:\n",
    "\n",
    "```\n",
    "TWITTERTWEET.objects.count() < 1000\n",
    "```\n",
    "\n",
    "Put the route to your website in the field below. Make sure to include the time that the tweet was sent. Here is [mine](https://peaceful-badlands-42479.herokuapp.com/site/twitter/recent/trump/)."
   ]
  },
  {
   "cell_type": "code",
   "execution_count": null,
   "metadata": {
    "button": false,
    "collapsed": true,
    "deletable": true,
    "new_sheet": false,
    "run_control": {
     "read_only": false
    }
   },
   "outputs": [],
   "source": [
    "https://salty-reaches-92407.herokuapp.com/site/twitter/trump/"
   ]
  },
  {
   "cell_type": "code",
   "execution_count": null,
   "metadata": {
    "collapsed": false
   },
   "outputs": [],
   "source": []
  },
  {
   "cell_type": "markdown",
   "metadata": {
    "button": false,
    "deletable": true,
    "new_sheet": false,
    "run_control": {
     "read_only": false
    }
   },
   "source": [
    "### Hints:\n",
    "\n",
    "* You're only going to be reading from your database in your views.py file\n",
    "* You're only going to be inserting into your database in your tweet_chron.py file"
   ]
  }
 ],
 "metadata": {
  "anaconda-cloud": {},
  "kernelspec": {
   "display_name": "Python [default]",
   "language": "python",
   "name": "python2"
  },
  "language_info": {
   "codemirror_mode": {
    "name": "ipython",
    "version": 2
   },
   "file_extension": ".py",
   "mimetype": "text/x-python",
   "name": "python",
   "nbconvert_exporter": "python",
   "pygments_lexer": "ipython2",
   "version": "2.7.12"
  }
 },
 "nbformat": 4,
 "nbformat_minor": 0
}
